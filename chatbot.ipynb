{
 "cells": [
  {
   "cell_type": "code",
   "execution_count": null,
   "metadata": {},
   "outputs": [],
   "source": [
    "import torch\n",
    "import torch.nn as nn\n",
    "import torchvision.models as models\n",
    "\n",
    "class MultilabelClassifier(nn.Module):\n",
    "    def __init__(self, n_features):\n",
    "        super().__init__()\n",
    "        self.resnet = models.resnet34(pretrained=True)\n",
    "        self.model_wo_fc = nn.Sequential(*(list(self.resnet.children())[:-1]))\n",
    "        self.imageClass = nn.Sequential(\n",
    "            nn.Dropout(p=0.2),\n",
    "            nn.Linear(in_features=512, out_features=n_features)\n",
    "        )\n",
    "\n",
    "    def forward(self, x):\n",
    "        x = self.model_wo_fc(x)\n",
    "        x = torch.flatten(x, 1)\n",
    "        return {'class': self.imageClass(x)}\n"
   ]
  },
  {
   "cell_type": "code",
   "execution_count": null,
   "metadata": {},
   "outputs": [
    {
     "name": "stderr",
     "output_type": "stream",
     "text": [
      "C:\\Users\\karti\\AppData\\Local\\Temp\\ipykernel_11892\\2213445934.py:19: FutureWarning: You are using `torch.load` with `weights_only=False` (the current default value), which uses the default pickle module implicitly. It is possible to construct malicious pickle data which will execute arbitrary code during unpickling (See https://github.com/pytorch/pytorch/blob/main/SECURITY.md#untrusted-models for more details). In a future release, the default value for `weights_only` will be flipped to `True`. This limits the functions that could be executed during unpickling. Arbitrary objects will no longer be allowed to be loaded via this mode unless they are explicitly allowlisted by the user via `torch.serialization.add_safe_globals`. We recommend you start setting `weights_only=True` for any use case where you don't have full control of the loaded file. Please open an issue on GitHub for any issues related to this experimental feature.\n",
      "  checkpoint = torch.load(\"D:/COLLEGE_STUDIES/SEM-6/ML_NLP_project/model/house/house_model_10.tar\",\n",
      "C:\\Users\\karti\\AppData\\Local\\Temp\\ipykernel_11892\\2213445934.py:26: FutureWarning: You are using `torch.load` with `weights_only=False` (the current default value), which uses the default pickle module implicitly. It is possible to construct malicious pickle data which will execute arbitrary code during unpickling (See https://github.com/pytorch/pytorch/blob/main/SECURITY.md#untrusted-models for more details). In a future release, the default value for `weights_only` will be flipped to `True`. This limits the functions that could be executed during unpickling. Arbitrary objects will no longer be allowed to be loaded via this mode unless they are explicitly allowlisted by the user via `torch.serialization.add_safe_globals`. We recommend you start setting `weights_only=True` for any use case where you don't have full control of the loaded file. Please open an issue on GitHub for any issues related to this experimental feature.\n",
      "  checkpoint = torch.load(\"D:\\COLLEGE_STUDIES\\SEM-6\\ML_NLP_project\\model\\house\\house_model_10.tar\", map_location=\"cpu\")\n"
     ]
    },
    {
     "data": {
      "image/png": "[encoded data removed]",
      "text/plain": [
       "<Figure size 640x480 with 1 Axes>"
      ]
     },
     "metadata": {},
     "output_type": "display_data"
    },
    {
     "data": {
      "text/markdown": [
       "## 🧠 **Psychological Report:**\n",
       "Signs of anxiety are visible in the artwork."
      ],
      "text/plain": [
       "<IPython.core.display.Markdown object>"
      ]
     },
     "metadata": {},
     "output_type": "display_data"
    },
    {
     "data": {
      "application/vnd.jupyter.widget-view+json": {
       "model_id": "189bd051d38b41fbbf8ebee6e81f3398",
       "version_major": 2,
       "version_minor": 0
      },
      "text/plain": [
       "Text(value='', placeholder='Ask about the psychological report...')"
      ]
     },
     "metadata": {},
     "output_type": "display_data"
    },
    {
     "data": {
      "application/vnd.jupyter.widget-view+json": {
       "model_id": "6a1b0e756d35482d8d7dc18bceefadb4",
       "version_major": 2,
       "version_minor": 0
      },
      "text/plain": [
       "Output()"
      ]
     },
     "metadata": {},
     "output_type": "display_data"
    }
   ],
   "source": [
    "import torch\n",
    "import torchvision.models as models\n",
    "import torchvision.transforms as transforms\n",
    "from PIL import Image\n",
    "import matplotlib.pyplot as plt\n",
    "import random\n",
    "import ipywidgets as widgets\n",
    "from IPython.display import display, Markdown\n",
    "from transformers import AutoModelForCausalLM, AutoTokenizer\n",
    "\n",
    "# Define the model architecture (ResNet-34)\n",
    "model = models.resnet34(pretrained=False)  # Ensure it matches your trained model\n",
    "\n",
    "# Adjust final layer (assuming 3 classes: Stress, Introvert, Extrovert)\n",
    "num_ftrs = model.fc.in_features\n",
    "model.fc = torch.nn.Linear(num_ftrs, 3)  # Ensure it matches training\n",
    "\n",
    "# Load trained model weights\n",
    "checkpoint = torch.load(\"D:/COLLEGE_STUDIES/SEM-6/ML_NLP_project/model/house/house_model_10.tar\", \n",
    "                        map_location=torch.device(\"cpu\"))\n",
    "\n",
    "# Define the model architecture\n",
    "model = MultilabelClassifier(3).to(\"cpu\")  # Initialize the model\n",
    "\n",
    "# Load the checkpoint\n",
    "checkpoint = torch.load(\"D:\\COLLEGE_STUDIES\\SEM-6\\ML_NLP_project\\model\\house\\house_model_10.tar\", map_location=\"cpu\")\n",
    "\n",
    "# Load the model weights\n",
    "model.load_state_dict(checkpoint[\"model_state_dict\"])\n",
    "\n",
    "# Set to evaluation mode\n",
    "model.eval()\n",
    "\n",
    "\n",
    "# Define image transformation\n",
    "transform = transforms.Compose([\n",
    "    transforms.Resize((224, 224)),\n",
    "    transforms.ToTensor(),\n",
    "])\n",
    "\n",
    "# Class Labels\n",
    "class_labels = {0: \"Stress\", 1: \"Introvert\", 2: \"Extrovert\"}\n",
    "\n",
    "# Load Chatbot model\n",
    "model_name = \"microsoft/DialoGPT-small\"\n",
    "tokenizer = AutoTokenizer.from_pretrained(model_name)\n",
    "chatbot_model = AutoModelForCausalLM.from_pretrained(model_name)\n",
    "\n",
    "# Function to classify an image\n",
    "def classify_image(image_path):\n",
    "    image = Image.open(image_path).convert(\"RGB\")\n",
    "    image_tensor = transform(image).unsqueeze(0)\n",
    "\n",
    "    with torch.no_grad():\n",
    "        output = model(image_tensor)  # output is a dictionary\n",
    "        predicted_class = torch.argmax(output['class'], dim=1).item()  # Extract tensor from dict\n",
    "\n",
    "    return class_labels[predicted_class], image\n",
    "\n",
    "\n",
    "# Function to generate chatbot responses\n",
    "def chatbot_response(user_input):\n",
    "    inputs = tokenizer.encode(user_input + tokenizer.eos_token, return_tensors=\"pt\")\n",
    "    output = chatbot_model.generate(inputs, max_length=100, pad_token_id=tokenizer.eos_token_id)\n",
    "    response = tokenizer.decode(output[:, inputs.shape[-1]:][0], skip_special_tokens=True)\n",
    "    return response\n",
    "\n",
    "# Psychological reports\n",
    "psych_reports = {\n",
    "    \"Stress\": [\"This drawing suggests emotional distress.\", \"Signs of anxiety are visible in the artwork.\"],\n",
    "    \"Introvert\": [\"The drawing indicates introverted tendencies.\", \"There is a pattern of shyness.\"],\n",
    "    \"Extrovert\": [\"This drawing suggests high energy.\", \"The artist appears confident and expressive.\"]\n",
    "}\n",
    "\n",
    "# Upload and classify image\n",
    "image_path = r\"D:\\COLLEGE_STUDIES\\SEM-6\\ML_NLP_project\\images\\house\\0.png\"\n",
    "trait, img = classify_image(image_path)\n",
    "\n",
    "\n",
    "# Generate a psychological report\n",
    "report = random.choice(psych_reports[trait])\n",
    "\n",
    "# Display Image and Prediction\n",
    "plt.imshow(img)\n",
    "plt.axis(\"off\")\n",
    "plt.title(f\"Predicted Trait: {trait}\")\n",
    "plt.show()\n",
    "\n",
    "# Display Report\n",
    "display(Markdown(f\"## 🧠 **Psychological Report:**\\n{report}\"))\n",
    "\n",
    "# Create Chat UI\n",
    "chat_input = widgets.Text(placeholder=\"Ask about the psychological report...\")\n",
    "chat_output = widgets.Output()\n",
    "\n",
    "# Function to handle user input\n",
    "def on_chat_submit(change):\n",
    "    with chat_output:\n",
    "        print(f\"👤 User: {change.new}\")\n",
    "        bot_reply = chatbot_response(change.new)\n",
    "        print(f\"🤖 Chatbot: {bot_reply}\\n\")\n",
    "\n",
    "chat_input.observe(on_chat_submit, names='value')\n",
    "\n",
    "# Show Chat UI\n",
    "display(chat_input, chat_output)\n"
   ]
  },
  {
   "cell_type": "code",
   "execution_count": null,
   "metadata": {},
   "outputs": [],
   "source": [
    "from sentence_transformers import SentenceTransformer, util\n",
    "\n",
    "# Load pre-trained Sentence Transformer model\n",
    "bert_model = SentenceTransformer(\"all-MiniLM-L6-v2\")\n",
    "\n",
    "# Define psychological knowledge base\n",
    "knowledge_base = {\n",
    "    \"Why is my drawing classified as stress?\": \n",
    "        \"Your drawing contains elements associated with psychological distress, such as heavy strokes, excessive shading, and chaotic patterns.\",\n",
    "    \n",
    "    \"How can I reduce stress in my drawings?\": \n",
    "        \"Using lighter strokes, drawing open spaces, and avoiding aggressive lines can help create a calmer representation in your artwork.\",\n",
    "    \n",
    "    \"What does an introverted drawing look like?\": \n",
    "        \"Introverted drawings tend to have smaller objects, minimal detailing, and often show isolated figures.\",\n",
    "    \n",
    "    \"Why is my drawing classified as extrovert?\": \n",
    "        \"Extroverted drawings typically use bright colors, large figures, and exaggerated expressions.\"\n",
    "}\n",
    "\n",
    "# Encode the knowledge base for similarity matching\n",
    "knowledge_keys = list(knowledge_base.keys())\n",
    "knowledge_embeddings = bert_model.encode(knowledge_keys, convert_to_tensor=True)\n"
   ]
  },
  {
   "cell_type": "code",
   "execution_count": null,
   "metadata": {},
   "outputs": [],
   "source": [
    "def chatbot_reasoning(user_query):\n",
    "    # Encode user query\n",
    "    user_embedding = bert_model.encode(user_query, convert_to_tensor=True)\n",
    "\n",
    "    # Find the closest question in the knowledge base\n",
    "    similarity_scores = util.pytorch_cos_sim(user_embedding, knowledge_embeddings)[0]\n",
    "    best_match_idx = similarity_scores.argmax().item()\n",
    "    \n",
    "    # Get the most relevant response\n",
    "    best_match_question = knowledge_keys[best_match_idx]\n",
    "    response = knowledge_base[best_match_question]\n",
    "    \n",
    "    return f\"🤖 Chatbot: {response}\"\n",
    "\n",
    "# Example usage\n",
    "user_question = \"Why is my drawing classified as stress?\"\n",
    "print(chatbot_reasoning(user_question))\n"
   ]
  },
  {
   "cell_type": "code",
   "execution_count": null,
   "metadata": {},
   "outputs": [],
   "source": [
    "import ipywidgets as widgets\n",
    "from IPython.display import display, Markdown\n",
    "\n",
    "# Create chat input and output\n",
    "chat_input = widgets.Text(placeholder=\"Ask about the psychological report...\")\n",
    "chat_output = widgets.Output()\n",
    "\n",
    "# Function to handle user input\n",
    "def on_chat_submit(change):\n",
    "    with chat_output:\n",
    "        print(f\"👤 User: {change.new}\")\n",
    "        bot_reply = chatbot_reasoning(change.new)\n",
    "        print(f\"{bot_reply}\\n\")\n",
    "\n",
    "chat_input.observe(on_chat_submit, names='value')\n",
    "\n",
    "# Display chat interface\n",
    "display(chat_input, chat_output)\n"
   ]
  }
 ],
 "metadata": {
  "kernelspec": {
   "display_name": "Python 3",
   "language": "python",
   "name": "python3"
  },
  "language_info": {
   "codemirror_mode": {
    "name": "ipython",
    "version": 3
   },
   "file_extension": ".py",
   "mimetype": "text/x-python",
   "name": "python",
   "nbconvert_exporter": "python",
   "pygments_lexer": "ipython3",
   "version": "3.10.0"
  }
 },
 "nbformat": 4,
 "nbformat_minor": 2
}
